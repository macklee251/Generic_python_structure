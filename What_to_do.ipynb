{
 "cells": [
  {
   "attachments": {},
   "cell_type": "markdown",
   "metadata": {},
   "source": [
    "### steps\n",
    "<ol>\n",
    "  <li>Start git and to comply with git flow create the following branches\n",
    "    <ul>\n",
    "      <li>main</li>\n",
    "      <li>hotfix</li>\n",
    "      <li>release</li>\n",
    "      <li>develop</li>\n",
    "      <li>feature1, feature2, ...</li>\n",
    "    </ul>\n",
    "  </li>\n",
    "  <li>Create .gitgnore and include: **/__pycache__</li> \n",
    "  <pre>                     .pytest_cache</pre> \n",
    "  <li>Isolating the environment: python3 -m venv env  or virtualenv -p python3 venv</li>\n",
    "  <li>Entering this environment: source env/bin/activate\n",
    "or . venv/bin/activate</li>\n",
    "  <li>The pip freeze command give us the packages in the correct format for the requirements txt file. We can use pip freeze > requirements.txt</li>\n",
    "  <li>In order to maintain the good practices of PEP 8: pip3 install pylint black black[jupyter]</li>\n",
    "  <li>Install flake8: pip3 install flake8. and then write a \".flake8\" file with the content: \n",
    "  <ul>\n",
    "    <li>[flake8]</li>\n",
    "    <li>ignore = E722, W503</li>\n",
    "    <li>max-line-length=200</li>\n",
    "    <li>per-file-ignore =  __init__.py :F401</li>\n",
    "  </ul>\n",
    "  <li>We can modify some rules of the pylint as we did with flake8. To do this we need to run the command: \"pylint --generate-rcfile >.pylintrc\" and then change the \"max-line-length=200, we can put too \"disable=\n",
    "      C0114 # missing-module-docstring\"\n",
    "\"</li>\n",
    "  <li>We can habilitate the lint through: \"ctrl + shift + p\", \"Python: Enable/Disable Linting\", \"Enable\". This command create a folder \".vscode\"</li>\n",
    "  <li>To select our linter we type: \"ctrl + shift + p\", \"Python: Select Linter\", \"pylint\", in this case we our chose the lint as the corrector, but we could use other option.</li>\n",
    "  <li>We can remove the transparency for Python Virtual Machine from our code by including in the file settings.json on .vscode: \n",
    "  \n",
    "{\n",
    "    \"python.linting.enabled\": true,\n",
    "    \"python.linting.pylintEnabled\": true,\n",
    "    \"files.exclude\": {\n",
    "        \"**/*.pyc\": {\"when\": \"$(basename).py\"},\n",
    "        \"**/__pycache__\": true,\n",
    "    }\n",
    "}\n",
    "    \n",
    "}</li>\n",
    "\n",
    "\n",
    "  <li>Installing the pytest: pip3 install Pytest</li>\n",
    "  <li>Saving the dependencies of this environment in the requirement: venv/bin/pip3 freeze > requirements.txt</li>\n",
    "  <li>Downloading and installing the python pre-commit: \n",
    "    <ul>\n",
    "      <li>pip3 install pre-commit</li>\n",
    "      <li>sudo apt install pre-commit</li>\n",
    "      <li>pre-commit install</li>\n",
    "    </ul>\n",
    "  <li>Creating the yaml file: .pre-commit-config.yaml</li>\n",
    "  <li>To install the dependences we just need to run: venv/bin/pip3 install -r requirements.txt</li>\n",
    "  <li>git commit -m \"config: Setting project configs\"</li>\n",
    "  <li>We can add environment variables, just install: pip install python-dotenv. create a file .env import this module on when we need: <br> from dotenv import load_fotenv <br>\n",
    "  load_dotenv() </li>\n",
    "\n",
    "</ol>\n",
    "<br>\n",
    "\n",
    "The commits sually usually has the follow instruction: \\<type>[optional scope]: \\<description>\n",
    "\n",
    "<pre>                                                          [optional body]</pre>\n",
    "<pre>                                                          [optional footer(s)]</pre>\n",
    "\n",
    "git commit -m \"config: Setting project configs\"\n",
    "\n",
    "we can add \"--no-verify\" on commit so that it ignores the tests."
   ]
  },
  {
   "attachments": {},
   "cell_type": "markdown",
   "metadata": {},
   "source": []
  }
 ],
 "metadata": {
  "kernelspec": {
   "display_name": "venv",
   "language": "python",
   "name": "python3"
  },
  "language_info": {
   "name": "python",
   "version": "3.10.7 (main, Oct 16 2022, 19:31:55) [GCC 11.2.0]"
  },
  "orig_nbformat": 4,
  "vscode": {
   "interpreter": {
    "hash": "fd6ad5bbea9e79c08df8246011219a5f4a054f4cd0c3dbee3c904b1dd064960d"
   }
  }
 },
 "nbformat": 4,
 "nbformat_minor": 2
}
